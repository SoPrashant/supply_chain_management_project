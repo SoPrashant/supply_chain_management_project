{
 "cells": [
  {
   "cell_type": "markdown",
   "metadata": {},
   "source": [
    "# Import Libraries"
   ]
  },
  {
   "cell_type": "code",
   "execution_count": 2065,
   "metadata": {},
   "outputs": [],
   "source": [
    "#importing the required libraries\n",
    "\n",
    "import math as m\n",
    "import datetime as dt\n",
    "import statistics as stat\n",
    "import pandas as pd\n",
    "\n",
    "from pyomo.core import *\n",
    "from pyomo.environ import *"
   ]
  },
  {
   "cell_type": "markdown",
   "metadata": {},
   "source": [
    "## You have been given a dataset with the following information\n",
    "\n",
    "Crushers Location data with their service rate\n",
    "Diggers Location data with their service rate\n",
    "\n",
    "You have 3 crushers and 10 diggers on the open pit mine. And you have 130 trucks.\n",
    "The objective of this model is to build an optimized model such as all loaded trucks are at crushers and all empty ones are at diggers.\n",
    "The objective is to ensure that no queue is running empty and the queues near the diggers and crushers are optimised so that they can operate efficiently."
   ]
  },
  {
   "cell_type": "markdown",
   "metadata": {},
   "source": [
    "##  Task 1: Defining Datastructures: Classes for Truck, Digger and Crusher "
   ]
  },
  {
   "cell_type": "markdown",
   "metadata": {},
   "source": [
    "**IMP NOTE:**\n",
    "In this stub file, we have defined the classes for the trucks, diggers and crushers and for a snapshot that will help you in the truck assignment using the greedy heuristic procedure. We have already explained in detailed comments the steps to be used for every part of the algorithm in the stub file below. To use these classes and instantiate objects related to them as explained during each step in the comments in the part of the stub file below, we suggest you read only that part of OOPs from the link here:_[Link to OOP in Python](https://realpython.com/python3-object-oriented-programming/)_"
   ]
  },
  {
   "cell_type": "markdown",
   "metadata": {},
   "source": [
    "## Class Truck\n",
    "\n",
    "In Class Truck, we have attributes as a unique ID for Truck, Source, destination, travel time, mean departure rate and wait time with methods(function that is associated with an object) to update them as well"
   ]
  },
  {
   "cell_type": "code",
   "execution_count": 2066,
   "metadata": {},
   "outputs": [],
   "source": [
    "class Truck:\n",
    "    def __init__(self):\n",
    "        self.global_id = None\n",
    "        self.source = None\n",
    "        self.destination = None\n",
    "        self.travel_time = None\n",
    "        self.mean_departure_rate = None\n",
    "        self.wait_time = None\n",
    "        \n",
    "    def update_source(self,s):\n",
    "        self.source = s\n",
    "        \n",
    "    def update_destination(self,d):\n",
    "        self.destination = d\n",
    "        \n",
    "    def update_global_id(self, id):\n",
    "        self.global_id = id\n",
    "        \n",
    "    def update_travelTime(self,tme):\n",
    "        self.travel_time = tme      "
   ]
  },
  {
   "cell_type": "markdown",
   "metadata": {},
   "source": [
    "# Class Digger\n",
    "\n",
    "Class Digger has attributes: self-unique ID for Digger, original ID, location, mean and standard deviation time and a list with current queue which will store trucks in the queue for that particular Digger Object.\n",
    "\n",
    "Digger Class also have methods of updating attributes, updating a truck into the current queue of Digger object and a method to remove all trucks in queue"
   ]
  },
  {
   "cell_type": "code",
   "execution_count": 2067,
   "metadata": {},
   "outputs": [],
   "source": [
    "class Digger:\n",
    "    def __init__(self):\n",
    "        self.id = None\n",
    "        self.original_id = None\n",
    "        self.loc_lat_long = []\n",
    "        self.mean_serviceT = None\n",
    "        self.std_dev_serviceT = None\n",
    "        self.current_queue = []\n",
    "        \n",
    "    def update_digger(self,lid,oid,lat,lng,meanST,stdST):\n",
    "        self.id = lid\n",
    "        self.original_id = oid\n",
    "        self.loc_lat_long = [lat, lng]\n",
    "        self.mean_serviceT = meanST\n",
    "        self.std_dev_serviceT = stdST\n",
    "    \n",
    "    # this method appends a single truck to the current_queue list for that particular object\n",
    "    def update_queue(self,truck_id):\n",
    "        self.current_queue.append(truck_id)\n",
    "      \n",
    "    # below method removes all trucks in queue by updating attribute current queue as empty list\n",
    "    def remove_allTrucks(self):\n",
    "        self.current_queue = []"
   ]
  },
  {
   "cell_type": "markdown",
   "metadata": {},
   "source": [
    "# Class Crusher\n",
    "\n",
    "Just like Digger class, Class Crusher has attributes: self-unique ID for Crusher, original ID, location, mean and standard deviation time and a list with current queue which will store trucks in the queue for that particular Crusher Object.\n",
    "Crusher Class also have methods of updating all attribuites, updating a truck into the current queue of Digger object and a method to remove all trucks in queue"
   ]
  },
  {
   "cell_type": "code",
   "execution_count": 2068,
   "metadata": {},
   "outputs": [],
   "source": [
    "class Crusher:\n",
    "    def __init__(self):\n",
    "        self.id = None\n",
    "        self.original_id = None\n",
    "        self.loc_lat_long = []\n",
    "        self.mean_serviceT = None\n",
    "        self.std_dev_serviceT = None\n",
    "        self.current_queue = []\n",
    "        \n",
    "    def update_crusher(self,lid,oid,lat,lng,meanST,stdST):\n",
    "        self.id = lid\n",
    "        self.original_id = oid\n",
    "        self.loc_lat_long = [lat, lng]\n",
    "        self.mean_serviceT = meanST\n",
    "        self.std_dev_serviceT = stdST\n",
    "        \n",
    "    # this method appends a single truck to the current_queue list for that particular object\n",
    "    def update_queue(self,truck_id):\n",
    "        self.current_queue.append(truck_id)\n",
    "        \n",
    "    # below method removes all trucks in queue by updating attribute current queue as empty list\n",
    "    def remove_allTrucks(self):\n",
    "        self.current_queue = []"
   ]
  },
  {
   "cell_type": "markdown",
   "metadata": {},
   "source": [
    "## TASK 2: Reading the input data from CSV files"
   ]
  },
  {
   "cell_type": "code",
   "execution_count": 2069,
   "metadata": {},
   "outputs": [],
   "source": [
    "# Create and store all the digger and crusher object in following dictionary\n",
    "digger_objs = {}\n",
    "crusher_objs = {}\n",
    "\n",
    "#for each digger, create digger object and store the data into that object and update that object for each digger in digger_objs\n",
    "\n",
    "\n",
    "\n",
    "\n",
    "#for each crusher, create crusher object and store the data into that object and append that object for each crusher in crusher_objs\n",
    "\n",
    "\n",
    "\n",
    "\n",
    "\n"
   ]
  },
  {
   "cell_type": "markdown",
   "metadata": {},
   "source": [
    "## Read all the data from the diggers and crushers location data csv files provided"
   ]
  },
  {
   "cell_type": "code",
   "execution_count": 2070,
   "metadata": {},
   "outputs": [],
   "source": [
    "#reading the diggers location data in the digger dataframe df_digger\n",
    "df_digger = pd.read_csv('diggers_location_data.csv') #Read the Digger Location Data here\n",
    "for ix in df_digger.index:\n",
    "    d = Digger()\n",
    "    #updating the attributes in the digger location data for each digger\n",
    "    d.update_digger(df_digger['SourceLocationName'][ix], df_digger['SourceLocationDescription'][ix],df_digger['Lat'][ix], \\\n",
    "                   df_digger['Lng'][ix], df_digger['Average - Service Time'][ix], df_digger['Std Dev - Service Time'][ix])\n",
    "    digger_objs[df_digger['SourceLocationName'][ix]] = d\n",
    "    \n",
    "diggers = df_digger['SourceLocationName']\n",
    "\n",
    "#reading the crushers location data in the crusher dataframe df_crusher\n",
    "df_crusher = pd.read_csv('crushers_location_data.csv') #Read the Crusher Location Data here\n",
    "for ix in df_crusher.index:\n",
    "    c = Crusher()\n",
    "    #updating the attributes in the crusher location data for each crusher\n",
    "    c.update_crusher(df_crusher['DestinationLocationName'][ix], df_crusher['DestinationLocationDescription'][ix], df_crusher['Lat'][ix], \\\n",
    "                    df_crusher['Lng'][ix], df_crusher['Average - Service Time'][ix], df_crusher['Std Dev - Service Time'][ix])\n",
    "    crusher_objs[df_crusher['DestinationLocationName'][ix]] = c\n",
    "    \n",
    "crushers = df_crusher['DestinationLocationName']"
   ]
  },
  {
   "cell_type": "code",
   "execution_count": 2071,
   "metadata": {},
   "outputs": [
    {
     "data": {
      "text/plain": [
       "{'CR1': <__main__.Crusher at 0x1b3d3981af0>,\n",
       " 'CR2': <__main__.Crusher at 0x1b3d4f78040>,\n",
       " 'CR3': <__main__.Crusher at 0x1b3d4f805e0>}"
      ]
     },
     "execution_count": 2071,
     "metadata": {},
     "output_type": "execute_result"
    }
   ],
   "source": [
    "crusher_objs"
   ]
  },
  {
   "cell_type": "code",
   "execution_count": 2072,
   "metadata": {},
   "outputs": [
    {
     "data": {
      "text/plain": [
       "{'DigLoc1': <__main__.Digger at 0x1b3d4f784f0>,\n",
       " 'DigLoc2': <__main__.Digger at 0x1b3d4f80c70>,\n",
       " 'DigLoc3': <__main__.Digger at 0x1b3d4f800a0>,\n",
       " 'DigLoc4': <__main__.Digger at 0x1b3d4f80a00>,\n",
       " 'DigLoc5': <__main__.Digger at 0x1b3d4f80e80>,\n",
       " 'DigLoc6': <__main__.Digger at 0x1b3d4f80850>,\n",
       " 'DigLoc7': <__main__.Digger at 0x1b3d4f80970>,\n",
       " 'DigLoc8': <__main__.Digger at 0x1b3d4f80e20>,\n",
       " 'DigLoc9': <__main__.Digger at 0x1b3d4f802e0>,\n",
       " 'DigLoc10': <__main__.Digger at 0x1b3d4f803a0>}"
      ]
     },
     "execution_count": 2072,
     "metadata": {},
     "output_type": "execute_result"
    }
   ],
   "source": [
    "digger_objs"
   ]
  },
  {
   "cell_type": "code",
   "execution_count": 2073,
   "metadata": {},
   "outputs": [
    {
     "data": {
      "text/plain": [
       "0     DigLoc1\n",
       "1     DigLoc2\n",
       "2     DigLoc3\n",
       "3     DigLoc4\n",
       "4     DigLoc5\n",
       "5     DigLoc6\n",
       "6     DigLoc7\n",
       "7     DigLoc8\n",
       "8     DigLoc9\n",
       "9    DigLoc10\n",
       "Name: SourceLocationName, dtype: object"
      ]
     },
     "execution_count": 2073,
     "metadata": {},
     "output_type": "execute_result"
    }
   ],
   "source": [
    "diggers"
   ]
  },
  {
   "cell_type": "code",
   "execution_count": 2074,
   "metadata": {},
   "outputs": [
    {
     "data": {
      "text/plain": [
       "pandas.core.series.Series"
      ]
     },
     "execution_count": 2074,
     "metadata": {},
     "output_type": "execute_result"
    }
   ],
   "source": [
    "type(diggers)"
   ]
  },
  {
   "cell_type": "code",
   "execution_count": 2075,
   "metadata": {},
   "outputs": [
    {
     "data": {
      "text/plain": [
       "'DigLoc1'"
      ]
     },
     "execution_count": 2075,
     "metadata": {},
     "output_type": "execute_result"
    }
   ],
   "source": [
    "diggers[0]"
   ]
  },
  {
   "cell_type": "code",
   "execution_count": 2076,
   "metadata": {},
   "outputs": [
    {
     "data": {
      "text/plain": [
       "0    CR1\n",
       "1    CR2\n",
       "2    CR3\n",
       "Name: DestinationLocationName, dtype: object"
      ]
     },
     "execution_count": 2076,
     "metadata": {},
     "output_type": "execute_result"
    }
   ],
   "source": [
    "crushers"
   ]
  },
  {
   "cell_type": "markdown",
   "metadata": {},
   "source": [
    "# Input data"
   ]
  },
  {
   "cell_type": "code",
   "execution_count": null,
   "metadata": {},
   "outputs": [],
   "source": []
  },
  {
   "cell_type": "code",
   "execution_count": 2077,
   "metadata": {},
   "outputs": [],
   "source": [
    "n_trucks = 57\n",
    "n_diggers = len(df_digger)\n",
    "n_crusher = len(df_crusher)\n",
    "truck_cap = 230 #tons\n",
    "avg_truck_speed = 9 #m/s\n",
    "n_buckets_req_truck = 5\n",
    "\n",
    "#Index Sets, we are naming Truck ID s T1, T2, T3....\n",
    "trucks = ['T' + str(x) for x in range(1,n_trucks+1)]\n",
    "locations = diggers + crushers\n",
    "\n",
    "#Creating temp 2d array that stores each location's id, mean service time and standard devaition of service time\n",
    "temp = []\n",
    "for d in diggers:\n",
    "    temp.append((d, digger_objs[d].mean_serviceT, digger_objs[d].std_dev_serviceT))\n",
    "for c in crushers:\n",
    "    temp.append((c, crusher_objs[c].mean_serviceT, crusher_objs[c].std_dev_serviceT))\n",
    "\n",
    "    \n",
    "#Using temp list to store each loaction's mean time and standard devation service time in dictionary\n",
    "meanServT = {}\n",
    "stdServT = {}\n",
    "for item in sorted(temp, key=lambda x:x[1]):\n",
    "    meanServT[item[0]] = item[1].item() # mapping each loaction ID to mean service time\n",
    "    stdServT[item[0]] = item[2].item()  # mapping each loaction ID to standard deviation service time\n",
    "\n",
    "    \n",
    "#Creating dictinory of truck objects by creating object for each truck and storing it in truck_objs with it's ID as key\n",
    "truck_objs = {}\n",
    "for t in range(0,n_trucks):\n",
    "    truck = Truck()\n",
    "    truck.update_global_id(trucks[t]) #here Truck ID is T1, T2, T3....\n",
    "    truck_objs[trucks[t]] = truck"
   ]
  },
  {
   "cell_type": "code",
   "execution_count": 2078,
   "metadata": {
    "scrolled": true
   },
   "outputs": [
    {
     "data": {
      "text/plain": [
       "['T1',\n",
       " 'T2',\n",
       " 'T3',\n",
       " 'T4',\n",
       " 'T5',\n",
       " 'T6',\n",
       " 'T7',\n",
       " 'T8',\n",
       " 'T9',\n",
       " 'T10',\n",
       " 'T11',\n",
       " 'T12',\n",
       " 'T13',\n",
       " 'T14',\n",
       " 'T15',\n",
       " 'T16',\n",
       " 'T17',\n",
       " 'T18',\n",
       " 'T19',\n",
       " 'T20',\n",
       " 'T21',\n",
       " 'T22',\n",
       " 'T23',\n",
       " 'T24',\n",
       " 'T25',\n",
       " 'T26',\n",
       " 'T27',\n",
       " 'T28',\n",
       " 'T29',\n",
       " 'T30',\n",
       " 'T31',\n",
       " 'T32',\n",
       " 'T33',\n",
       " 'T34',\n",
       " 'T35',\n",
       " 'T36',\n",
       " 'T37',\n",
       " 'T38',\n",
       " 'T39',\n",
       " 'T40',\n",
       " 'T41',\n",
       " 'T42',\n",
       " 'T43',\n",
       " 'T44',\n",
       " 'T45',\n",
       " 'T46',\n",
       " 'T47',\n",
       " 'T48',\n",
       " 'T49',\n",
       " 'T50',\n",
       " 'T51',\n",
       " 'T52',\n",
       " 'T53',\n",
       " 'T54',\n",
       " 'T55',\n",
       " 'T56',\n",
       " 'T57']"
      ]
     },
     "execution_count": 2078,
     "metadata": {},
     "output_type": "execute_result"
    }
   ],
   "source": [
    "trucks"
   ]
  },
  {
   "cell_type": "code",
   "execution_count": 2079,
   "metadata": {
    "scrolled": true
   },
   "outputs": [
    {
     "data": {
      "text/plain": [
       "{'T1': <__main__.Truck at 0x1b3d4f80460>,\n",
       " 'T2': <__main__.Truck at 0x1b3d4f80c10>,\n",
       " 'T3': <__main__.Truck at 0x1b3d4f80b50>,\n",
       " 'T4': <__main__.Truck at 0x1b3d4f80a60>,\n",
       " 'T5': <__main__.Truck at 0x1b3d4f80df0>,\n",
       " 'T6': <__main__.Truck at 0x1b3d4f80d90>,\n",
       " 'T7': <__main__.Truck at 0x1b3d4f80760>,\n",
       " 'T8': <__main__.Truck at 0x1b3d4f808e0>,\n",
       " 'T9': <__main__.Truck at 0x1b3d4f80c40>,\n",
       " 'T10': <__main__.Truck at 0x1b3d4f80e50>,\n",
       " 'T11': <__main__.Truck at 0x1b3d4f807f0>,\n",
       " 'T12': <__main__.Truck at 0x1b3d4f809a0>,\n",
       " 'T13': <__main__.Truck at 0x1b3d4f80bb0>,\n",
       " 'T14': <__main__.Truck at 0x1b3d4f804f0>,\n",
       " 'T15': <__main__.Truck at 0x1b3d4f80190>,\n",
       " 'T16': <__main__.Truck at 0x1b3d4f807c0>,\n",
       " 'T17': <__main__.Truck at 0x1b3d4f80d60>,\n",
       " 'T18': <__main__.Truck at 0x1b3d4fa5700>,\n",
       " 'T19': <__main__.Truck at 0x1b3d4fa5880>,\n",
       " 'T20': <__main__.Truck at 0x1b3d4fa5a60>,\n",
       " 'T21': <__main__.Truck at 0x1b3d4fa5430>,\n",
       " 'T22': <__main__.Truck at 0x1b3d4fa52e0>,\n",
       " 'T23': <__main__.Truck at 0x1b3d4fa5460>,\n",
       " 'T24': <__main__.Truck at 0x1b3d4fa5af0>,\n",
       " 'T25': <__main__.Truck at 0x1b3d4fa5250>,\n",
       " 'T26': <__main__.Truck at 0x1b3d4fa5be0>,\n",
       " 'T27': <__main__.Truck at 0x1b3d4fa5d30>,\n",
       " 'T28': <__main__.Truck at 0x1b3d4fa54c0>,\n",
       " 'T29': <__main__.Truck at 0x1b3d4fa5e20>,\n",
       " 'T30': <__main__.Truck at 0x1b3d4fa5550>,\n",
       " 'T31': <__main__.Truck at 0x1b3d4fa5a90>,\n",
       " 'T32': <__main__.Truck at 0x1b3d4fa5940>,\n",
       " 'T33': <__main__.Truck at 0x1b3d4fa55b0>,\n",
       " 'T34': <__main__.Truck at 0x1b3d4fa5640>,\n",
       " 'T35': <__main__.Truck at 0x1b3d4fa5a00>,\n",
       " 'T36': <__main__.Truck at 0x1b3d4fa5ca0>,\n",
       " 'T37': <__main__.Truck at 0x1b3d4fa59a0>,\n",
       " 'T38': <__main__.Truck at 0x1b3d4fa5970>,\n",
       " 'T39': <__main__.Truck at 0x1b3d4fa5820>,\n",
       " 'T40': <__main__.Truck at 0x1b3d4fa5790>,\n",
       " 'T41': <__main__.Truck at 0x1b3d4fa5610>,\n",
       " 'T42': <__main__.Truck at 0x1b3d4fa5520>,\n",
       " 'T43': <__main__.Truck at 0x1b3d4fa5ac0>,\n",
       " 'T44': <__main__.Truck at 0x1b3d4fa57f0>,\n",
       " 'T45': <__main__.Truck at 0x1b3d4fa57c0>,\n",
       " 'T46': <__main__.Truck at 0x1b3d4fa5ee0>,\n",
       " 'T47': <__main__.Truck at 0x1b3d4fa5e80>,\n",
       " 'T48': <__main__.Truck at 0x1b3d4fa5070>,\n",
       " 'T49': <__main__.Truck at 0x1b3d4fa58b0>,\n",
       " 'T50': <__main__.Truck at 0x1b3d4fa5cd0>,\n",
       " 'T51': <__main__.Truck at 0x1b3d4fa5730>,\n",
       " 'T52': <__main__.Truck at 0x1b3d4fa5370>,\n",
       " 'T53': <__main__.Truck at 0x1b3d4fa5fa0>,\n",
       " 'T54': <__main__.Truck at 0x1b3d4fa54f0>,\n",
       " 'T55': <__main__.Truck at 0x1b3d4fa58e0>,\n",
       " 'T56': <__main__.Truck at 0x1b3d4fa5bb0>,\n",
       " 'T57': <__main__.Truck at 0x1b3d4fa56a0>}"
      ]
     },
     "execution_count": 2079,
     "metadata": {},
     "output_type": "execute_result"
    }
   ],
   "source": [
    "truck_objs"
   ]
  },
  {
   "cell_type": "code",
   "execution_count": 2080,
   "metadata": {},
   "outputs": [
    {
     "data": {
      "text/plain": [
       "[('DigLoc1', 19.16, 4.18),\n",
       " ('DigLoc2', 25.69, 7.8),\n",
       " ('DigLoc3', 28.24, 10.06),\n",
       " ('DigLoc4', 20.44, 5.22),\n",
       " ('DigLoc5', 36.41, 8.74),\n",
       " ('DigLoc6', 40.11, 12.36),\n",
       " ('DigLoc7', 29.38, 7.19),\n",
       " ('DigLoc8', 31.84, 7.42),\n",
       " ('DigLoc9', 23.3, 7.56),\n",
       " ('DigLoc10', 39.95, 12.13),\n",
       " ('CR1', 60, 120),\n",
       " ('CR2', 60, 120),\n",
       " ('CR3', 60, 120)]"
      ]
     },
     "execution_count": 2080,
     "metadata": {},
     "output_type": "execute_result"
    }
   ],
   "source": [
    "temp"
   ]
  },
  {
   "cell_type": "code",
   "execution_count": 2081,
   "metadata": {
    "scrolled": true
   },
   "outputs": [
    {
     "data": {
      "text/plain": [
       "['T1',\n",
       " 'T2',\n",
       " 'T3',\n",
       " 'T4',\n",
       " 'T5',\n",
       " 'T6',\n",
       " 'T7',\n",
       " 'T8',\n",
       " 'T9',\n",
       " 'T10',\n",
       " 'T11',\n",
       " 'T12',\n",
       " 'T13',\n",
       " 'T14',\n",
       " 'T15',\n",
       " 'T16',\n",
       " 'T17',\n",
       " 'T18',\n",
       " 'T19',\n",
       " 'T20',\n",
       " 'T21',\n",
       " 'T22',\n",
       " 'T23',\n",
       " 'T24',\n",
       " 'T25',\n",
       " 'T26',\n",
       " 'T27',\n",
       " 'T28',\n",
       " 'T29',\n",
       " 'T30',\n",
       " 'T31',\n",
       " 'T32',\n",
       " 'T33',\n",
       " 'T34',\n",
       " 'T35',\n",
       " 'T36',\n",
       " 'T37',\n",
       " 'T38',\n",
       " 'T39',\n",
       " 'T40',\n",
       " 'T41',\n",
       " 'T42',\n",
       " 'T43',\n",
       " 'T44',\n",
       " 'T45',\n",
       " 'T46',\n",
       " 'T47',\n",
       " 'T48',\n",
       " 'T49',\n",
       " 'T50',\n",
       " 'T51',\n",
       " 'T52',\n",
       " 'T53',\n",
       " 'T54',\n",
       " 'T55',\n",
       " 'T56',\n",
       " 'T57']"
      ]
     },
     "execution_count": 2081,
     "metadata": {},
     "output_type": "execute_result"
    }
   ],
   "source": [
    "trucks"
   ]
  },
  {
   "cell_type": "code",
   "execution_count": 2082,
   "metadata": {},
   "outputs": [
    {
     "data": {
      "text/plain": [
       "0    DigLoc1CR1\n",
       "1    DigLoc2CR2\n",
       "2    DigLoc3CR3\n",
       "3           NaN\n",
       "4           NaN\n",
       "5           NaN\n",
       "6           NaN\n",
       "7           NaN\n",
       "8           NaN\n",
       "9           NaN\n",
       "dtype: object"
      ]
     },
     "execution_count": 2082,
     "metadata": {},
     "output_type": "execute_result"
    }
   ],
   "source": [
    "locations"
   ]
  },
  {
   "cell_type": "code",
   "execution_count": 2083,
   "metadata": {},
   "outputs": [
    {
     "data": {
      "text/plain": [
       "{'DigLoc1': 19.16,\n",
       " 'DigLoc4': 20.44,\n",
       " 'DigLoc9': 23.3,\n",
       " 'DigLoc2': 25.69,\n",
       " 'DigLoc3': 28.24,\n",
       " 'DigLoc7': 29.38,\n",
       " 'DigLoc8': 31.84,\n",
       " 'DigLoc5': 36.41,\n",
       " 'DigLoc10': 39.95,\n",
       " 'DigLoc6': 40.11,\n",
       " 'CR1': 60,\n",
       " 'CR2': 60,\n",
       " 'CR3': 60}"
      ]
     },
     "execution_count": 2083,
     "metadata": {},
     "output_type": "execute_result"
    }
   ],
   "source": [
    "meanServT"
   ]
  },
  {
   "cell_type": "code",
   "execution_count": 2084,
   "metadata": {},
   "outputs": [
    {
     "data": {
      "text/plain": [
       "{'DigLoc1': 4.18,\n",
       " 'DigLoc4': 5.22,\n",
       " 'DigLoc9': 7.56,\n",
       " 'DigLoc2': 7.8,\n",
       " 'DigLoc3': 10.06,\n",
       " 'DigLoc7': 7.19,\n",
       " 'DigLoc8': 7.42,\n",
       " 'DigLoc5': 8.74,\n",
       " 'DigLoc10': 12.13,\n",
       " 'DigLoc6': 12.36,\n",
       " 'CR1': 120,\n",
       " 'CR2': 120,\n",
       " 'CR3': 120}"
      ]
     },
     "execution_count": 2084,
     "metadata": {},
     "output_type": "execute_result"
    }
   ],
   "source": [
    "stdServT"
   ]
  },
  {
   "cell_type": "markdown",
   "metadata": {},
   "source": [
    "# Calculate Distance with Haversine formula\n",
    "\n",
    "This uses the ‘haversine’ formula to calculate the great-circle distance between two points – that is, the shortest distance over the earth’s surface – giving an ‘as-the-crow-flies’ distance between the points (ignoring any hills).\n",
    "\n",
    "Haversine formula:\t$a = \\sin^2(\\Delta \\phi /2) + \\cos \\phi_1 \\cdot \\cos \\phi_2 \\cdot \\sin^2(\\Delta \\lambda/2)$\n",
    "\n",
    "$c = 2 \\cdot atan2(\\sqrt a, \\sqrt{1−a})$\n",
    "\n",
    "$d = R \\cdot c$\n",
    "\n",
    "where, $\\phi$ is latitude, $\\lambda$ is longitude, $R$ is earth’s radius (mean radius = 6,371km); note: angles need to be in radians"
   ]
  },
  {
   "cell_type": "code",
   "execution_count": 2085,
   "metadata": {},
   "outputs": [],
   "source": [
    "def get_geo_distance_calc(lat1, lat2, long1, long2):\n",
    "    lat1 = lat1 * m.pi / 180\n",
    "    lat2 = lat2 * m.pi / 180\n",
    "    long1 = long1 * m.pi / 180\n",
    "    long2 = long2 * m.pi / 180\n",
    "    R =  6371 #km\n",
    "    a = (m.sin((lat2 - lat1)/2.0))**2 + m.cos(lat1) * m.cos(lat2) * (m.sin((long2 - long1)/2.0))**2\n",
    "    c = 2*m.atan2(m.sqrt(a), m.sqrt(1-a))\n",
    "    d = R*c\n",
    "    \n",
    "    return d\n",
    "\n",
    "## Calculate distance and truck travel time between each crusher and digger comnbination\n",
    "truck_travel_time = {}\n",
    "distance = {}\n",
    "## distance given in kms\n",
    "## truck_travel_time = distance * 1000.0 / avg_truck_speed where avg_truck speed is 9 m/s\n",
    "\n",
    "\n",
    "\n",
    "\n"
   ]
  },
  {
   "cell_type": "code",
   "execution_count": 2086,
   "metadata": {},
   "outputs": [
    {
     "data": {
      "text/plain": [
       "23.37057483"
      ]
     },
     "execution_count": 2086,
     "metadata": {},
     "output_type": "execute_result"
    }
   ],
   "source": [
    "#Accessing the locations of digger\n",
    "\n",
    "digger_objs[diggers[0]].loc_lat_long[0]  "
   ]
  },
  {
   "cell_type": "code",
   "execution_count": 2087,
   "metadata": {},
   "outputs": [
    {
     "data": {
      "text/plain": [
       "23.38190426"
      ]
     },
     "execution_count": 2087,
     "metadata": {},
     "output_type": "execute_result"
    }
   ],
   "source": [
    "#Accessing the locations of crusher\n",
    "\n",
    "crusher_objs[crushers[0]].loc_lat_long[0]"
   ]
  },
  {
   "cell_type": "code",
   "execution_count": 2088,
   "metadata": {},
   "outputs": [
    {
     "data": {
      "text/plain": [
       "8.063441408969133"
      ]
     },
     "execution_count": 2088,
     "metadata": {},
     "output_type": "execute_result"
    }
   ],
   "source": [
    "#calculating the distance between first digger and first crusher\n",
    "\n",
    "get_geo_distance_calc(digger_objs[diggers[0]].loc_lat_long[0],crusher_objs[crushers[0]].loc_lat_long[0],digger_objs[diggers[0]].loc_lat_long[1],crusher_objs[crushers[0]].loc_lat_long[1])"
   ]
  },
  {
   "cell_type": "code",
   "execution_count": 2089,
   "metadata": {},
   "outputs": [],
   "source": [
    "# Calculating distance between each crusher and digger comnbination and storing into the distance\n",
    "\n",
    "for i in diggers:\n",
    "    for j in crushers:\n",
    "        distance[i+j] = get_geo_distance_calc(digger_objs[i].loc_lat_long[0],crusher_objs[j].loc_lat_long[0],digger_objs[i].loc_lat_long[1],crusher_objs[j].loc_lat_long[1])"
   ]
  },
  {
   "cell_type": "code",
   "execution_count": 2090,
   "metadata": {},
   "outputs": [
    {
     "data": {
      "text/plain": [
       "{'DigLoc1CR1': 8.063441408969133,\n",
       " 'DigLoc1CR2': 1.4275619623167957,\n",
       " 'DigLoc1CR3': 14.349318221980422,\n",
       " 'DigLoc2CR1': 8.112974399564829,\n",
       " 'DigLoc2CR2': 14.115924217799664,\n",
       " 'DigLoc2CR3': 1.9051151562176922,\n",
       " 'DigLoc3CR1': 7.222745451605166,\n",
       " 'DigLoc3CR2': 11.002065790541453,\n",
       " 'DigLoc3CR3': 5.746714684518488,\n",
       " 'DigLoc4CR1': 1.3311659337042046,\n",
       " 'DigLoc4CR2': 7.916693841533034,\n",
       " 'DigLoc4CR3': 8.802579082260385,\n",
       " 'DigLoc5CR1': 2.2611492306240364,\n",
       " 'DigLoc5CR2': 9.987429107296327,\n",
       " 'DigLoc5CR3': 5.898362331420833,\n",
       " 'DigLoc6CR1': 0.8167714364335688,\n",
       " 'DigLoc6CR2': 7.940267061305039,\n",
       " 'DigLoc6CR3': 7.278395834103995,\n",
       " 'DigLoc7CR1': 6.363399326612144,\n",
       " 'DigLoc7CR2': 1.5288184540450733,\n",
       " 'DigLoc7CR3': 13.129853872104567,\n",
       " 'DigLoc8CR1': 5.646188899833118,\n",
       " 'DigLoc8CR2': 2.5471123351997296,\n",
       " 'DigLoc8CR3': 12.127517242695431,\n",
       " 'DigLoc9CR1': 5.2108701163741244,\n",
       " 'DigLoc9CR2': 3.0005028068533064,\n",
       " 'DigLoc9CR3': 11.663413134240631,\n",
       " 'DigLoc10CR1': 0.5498870616399498,\n",
       " 'DigLoc10CR2': 7.478978890173534,\n",
       " 'DigLoc10CR3': 7.847924340119886}"
      ]
     },
     "execution_count": 2090,
     "metadata": {},
     "output_type": "execute_result"
    }
   ],
   "source": [
    "distance # in kms"
   ]
  },
  {
   "cell_type": "code",
   "execution_count": null,
   "metadata": {},
   "outputs": [],
   "source": []
  },
  {
   "cell_type": "code",
   "execution_count": 2091,
   "metadata": {},
   "outputs": [],
   "source": [
    "# Calculating truck travel time between each crusher and digger comnbination and storing into the truck_travel_time dictionary\n",
    "\n",
    "for i in diggers:\n",
    "    for j in crushers:\n",
    "        truck_travel_time[i+j] = (distance[i+j]*1000)/avg_truck_speed\n",
    "        \n"
   ]
  },
  {
   "cell_type": "code",
   "execution_count": 2092,
   "metadata": {},
   "outputs": [
    {
     "data": {
      "text/plain": [
       "{'DigLoc1CR1': 895.9379343299038,\n",
       " 'DigLoc1CR2': 158.61799581297728,\n",
       " 'DigLoc1CR3': 1594.368691331158,\n",
       " 'DigLoc2CR1': 901.4415999516476,\n",
       " 'DigLoc2CR2': 1568.4360241999627,\n",
       " 'DigLoc2CR3': 211.6794618019658,\n",
       " 'DigLoc3CR1': 802.527272400574,\n",
       " 'DigLoc3CR2': 1222.4517545046058,\n",
       " 'DigLoc3CR3': 638.5238538353875,\n",
       " 'DigLoc4CR1': 147.90732596713383,\n",
       " 'DigLoc4CR2': 879.632649059226,\n",
       " 'DigLoc4CR3': 978.0643424733761,\n",
       " 'DigLoc5CR1': 251.23880340267073,\n",
       " 'DigLoc5CR2': 1109.7143452551475,\n",
       " 'DigLoc5CR3': 655.3735923800925,\n",
       " 'DigLoc6CR1': 90.75238182595209,\n",
       " 'DigLoc6CR2': 882.2518957005599,\n",
       " 'DigLoc6CR3': 808.7106482337772,\n",
       " 'DigLoc7CR1': 707.0443696235716,\n",
       " 'DigLoc7CR2': 169.86871711611926,\n",
       " 'DigLoc7CR3': 1458.872652456063,\n",
       " 'DigLoc8CR1': 627.3543222036798,\n",
       " 'DigLoc8CR2': 283.0124816888588,\n",
       " 'DigLoc8CR3': 1347.5019158550479,\n",
       " 'DigLoc9CR1': 578.9855684860138,\n",
       " 'DigLoc9CR2': 333.3892007614785,\n",
       " 'DigLoc9CR3': 1295.9347926934033,\n",
       " 'DigLoc10CR1': 61.098562404438866,\n",
       " 'DigLoc10CR2': 830.997654463726,\n",
       " 'DigLoc10CR3': 871.991593346654}"
      ]
     },
     "execution_count": 2092,
     "metadata": {},
     "output_type": "execute_result"
    }
   ],
   "source": [
    "truck_travel_time # in secs"
   ]
  },
  {
   "cell_type": "code",
   "execution_count": null,
   "metadata": {},
   "outputs": [],
   "source": []
  },
  {
   "cell_type": "code",
   "execution_count": 2093,
   "metadata": {},
   "outputs": [],
   "source": [
    "#estimating the lambda value from the queue theory using the quadratic equation that we will get above using the values of a,b and c\n",
    "\n",
    "def get_lambda(a,b,c):\n",
    "    D = b**2 - 4*a*c\n",
    "    if D < 0.0:\n",
    "        print(D)\n",
    "        return 'infeasible'\n",
    "    else:\n",
    "        lambda1 = (-b - m.sqrt(D)) / (2*a)\n",
    "        lambda2 = (-b + m.sqrt(D)) / (2*a)\n",
    "        if lambda1 >= 0.0 and lambda2 >= 0.0:\n",
    "            return [lambda1, lambda2]\n",
    "        elif lambda1 >= 0.0 and lambda2 < 0.0:\n",
    "            return [lamdba1]\n",
    "        elif lambda1 < 0.0 and lambda2 >= 0.0:\n",
    "            return [lambda2]\n",
    "        else:\n",
    "            return 'infeasible'"
   ]
  },
  {
   "cell_type": "markdown",
   "metadata": {},
   "source": [
    "# Class Snapshot\n",
    "\n",
    "This class stores following dictionary as attributes:\n",
    "\n",
    "truck_prevAssign: has dictionary of previous Assignment that maps  digger/crusher to trucks, \n",
    "\n",
    "crusher_list: dictionary that stores truck travel time for each crusher, \n",
    "\n",
    "digger_list: dictionary that stores truck travel time for each crusher, \n",
    "\n",
    "empty_truck_list: dictionary that stores crusher assignment for each empty truck,\n",
    "\n",
    "loaded_truck_list: dictionary that stores digger assignment for each loaded truck,\n",
    "\n",
    "queue_len : dictionary that stores queue length for each crusher/digger, \n",
    "\n",
    "truck_currentAssign: has dictionary of current Assignment that maps  digger/crusher to trucks(we will print this value),\n",
    "\n",
    "MF = This calculate matching factor for each crusher/digger"
   ]
  },
  {
   "cell_type": "code",
   "execution_count": 2094,
   "metadata": {},
   "outputs": [],
   "source": [
    "class Snapshot:\n",
    "    def __init__(self):\n",
    "        self.truck_prevAssign = {}\n",
    "        self.truck_digger_assign_startTime = None\n",
    "        self.truck_crusher_assign_startTime = None\n",
    "        self.truck_digger_assign_endTime = None\n",
    "        self.truck_crusher_assign_endTime = None\n",
    "        self.crusher_list = {} # maps each crusher to truck_average_time\n",
    "        self.empty_truck_list = {}\n",
    "        self.digger_list = {}\n",
    "        self.loaded_truck_list = {}\n",
    "        self.start_time = None\n",
    "        self.queue_len = {}\n",
    "        #self.cap = {}\n",
    "        self.truck_currentAssign = {}\n",
    "        self.MF = {}\n",
    "        self.n_trucks_crusher_avail = None\n",
    "        self.n_trucks_digger_avail = None"
   ]
  },
  {
   "cell_type": "markdown",
   "metadata": {},
   "source": [
    "### Greedy Heuristic Procedure"
   ]
  },
  {
   "cell_type": "code",
   "execution_count": 2095,
   "metadata": {},
   "outputs": [],
   "source": [
    "#In the below part of the code, all the 4 steps of the algorithm are mentioned in detail. \n",
    "#Perform those steps in the same cell and in the order mentioned below.\n",
    "\n",
    "#snapshots = {}\n",
    "#time_start = dt.datetime.now()\n",
    "\n",
    "\n",
    "#you can make 2 snapshots of truck assignment between the diggers and the crushers\n",
    "#snapshots = {}\n",
    "#time_start = dt.datetime.now()\n",
    "#for s in range(0,2): #iterations for each snapshot\n",
    " #   print(\"Snapshot \",s,\" started\\n\")\n",
    "    # snapshot 0:\n",
    "    # Case 1: with 1 digger and 1 crusher\n",
    "    # 30 unloaded trucks standing in queue at the digger &\n",
    "    # 27 loaded trucks standing in queue at the crusher\n",
    "    \n",
    "  #  snapshots[s] = Snapshot()    \n",
    "\n",
    "    # Intialization / starting from previous snapshot\n",
    "    # assigning the initial positions in case of first snapshot, and previous final assignments in case of subsequent snapshots\n",
    "    \n",
    "    \n",
    "    \n",
    "    \n",
    "# create a for loop for a certain number of trucks at each digger and each crusher in the initial snapshot, or else create a new snapshot\n",
    "# At the start of the schedule, there are 3 trucks each at each digger and 9 trucks each at each crusher\n",
    "\n",
    "\n",
    "#After having done the above step, please perform the Step 1: Equipment Availability\n",
    "#Check the status of the trucks in each crusher by checking the following \n",
    "#truck.mean_departure_rate\n",
    "#truck.wait_time\n",
    "#truck_av_time\n",
    "\n",
    "#perform the above for each digger and for each crusher\n",
    "\n",
    "\n",
    "# Step 2: Greedy assignment to estimate rates\n",
    "# snapshots[s].n_trucks_crusher_avail = 0\n",
    "# perform the above for every crusher\n",
    "\n",
    "# snapshots[s].n_trucks_digger_avail = 0\n",
    "# perform the above for every digger\n",
    "\n",
    "#now calculate the matching factor\n",
    "# start by creating an empty list of max_truck_crush_assign_time = []\n",
    "# Now calculate the truck cycle time and append that to the max_truck_crush_assign_time for every crusher\n",
    "\n",
    "# Similary, do the above step for diggers as well\n",
    "\n",
    "# Step 3: Two cases of Truck assignment problem\n",
    " #   print(\"\\n Truck Crusher assignment \\n\")\n",
    "    \n",
    "     # Start with the Truck Crusher assignment:\n",
    "     # create a model construction\n",
    "#    model = ConcreteModel()\n",
    "\n",
    "    # define the variables : hint, the variables are related to the available trucks\n",
    "    # define the objective function and optimise the model cost\n",
    "    # define the contraints\n",
    "    # run the model and print the results if it is a feasible solution\n",
    "    # similarly do the above for the Truck Digger Assignment as well\n",
    "    # print the snapshots to check the truck assignment"
   ]
  },
  {
   "cell_type": "code",
   "execution_count": 2096,
   "metadata": {},
   "outputs": [],
   "source": [
    "# Step 1: Estimation of the availability time of crusher, diggers and trucks\n",
    "#defining the two functions which returns \n",
    "\n",
    "# Crushers along with the times when their queues are empty\n",
    "# Empty trucks at each crusher location, along with the times when they are empty\n",
    "# Diggers along with the times when their queues are empty\n",
    "# Loaded trucks at each digger location, along with the times when they are loaded\n",
    "\n",
    "\n",
    "def Digger_LoadedTruck_List(time_start):\n",
    "    AvTrucksD={}\n",
    "    AvDiggers={}\n",
    "    for i in digger_objs[diggers[0]].current_queue:\n",
    "        if len(AvTrucksD)==0:\n",
    "            truck_objs[i].wait_time=0\n",
    "        else:    \n",
    "            a = (stdServT[diggers[0]]**2 + meanServT[diggers[0]]**2)/meanServT[diggers[0]]\n",
    "            b = 2*len(AvTrucksD)*meanServT[diggers[0]]\n",
    "            c = -2*len(AvTrucksD)\n",
    "            truck_objs[i].wait_time = len(AvTrucksD)/get_lambda(a,b,c)[0]\n",
    "        AvTrucksD[i] = time_start.second + truck_objs[i].wait_time + 600\n",
    "        truck_objs[i].mean_departure_rate = 1/AvTrucksD[i]     \n",
    "    AvDiggers[diggers[0]] = AvTrucksD[list(AvTrucksD.keys())[-1]]   \n",
    "    return ([AvTrucksD,AvDiggers])\n"
   ]
  },
  {
   "cell_type": "code",
   "execution_count": 2097,
   "metadata": {},
   "outputs": [],
   "source": [
    "def Crusher_EmptyTruck_List(time_start):\n",
    "    AvTrucksC={}\n",
    "    Avcrushers={}\n",
    "    for i in crusher_objs[crushers[0]].current_queue:\n",
    "        if len(AvTrucksC)==0:\n",
    "            truck_objs[i].wait_time=0\n",
    "        else:    \n",
    "            a = (stdServT[crushers[0]]**2 + meanServT[crushers[0]]**2)/meanServT[crushers[0]]\n",
    "            b = 2*len(AvTrucksC)*meanServT[crushers[0]]\n",
    "            c = -2*len(AvTrucksC)\n",
    "            truck_objs[i].wait_time = len(AvTrucksC)/get_lambda(a,b,c)[0]\n",
    "        AvTrucksC[i] = time_start.second + truck_objs[i].wait_time + 300\n",
    "        truck_objs[i].mean_departure_rate = 1/AvTrucksC[i]\n",
    "    Avcrushers[crushers[0]] = AvTrucksC[list(AvTrucksC.keys())[-1]]   \n",
    "    return ([AvTrucksC,Avcrushers])"
   ]
  },
  {
   "cell_type": "code",
   "execution_count": 2098,
   "metadata": {
    "scrolled": true
   },
   "outputs": [
    {
     "name": "stdout",
     "output_type": "stream",
     "text": [
      "Snapshot  0  started\n",
      "\n",
      "{'DigLoc1': ['T1', 'T2', 'T3', 'T4', 'T5', 'T6', 'T7', 'T8', 'T9', 'T10', 'T11', 'T12', 'T13', 'T14', 'T15', 'T16', 'T17', 'T18', 'T19', 'T20', 'T21', 'T22', 'T23', 'T24', 'T25', 'T26', 'T27', 'T28', 'T29', 'T30'], 'CR1': ['T31', 'T32', 'T33', 'T34', 'T35', 'T36', 'T37', 'T38', 'T39', 'T40', 'T41', 'T42', 'T43', 'T44', 'T45', 'T46', 'T47', 'T48', 'T49', 'T50', 'T51', 'T52', 'T53', 'T54', 'T55', 'T56', 'T57']}\n",
      "Snapshot  1  started\n",
      "\n",
      "{'DigLoc1': ['T1', 'T2', 'T3', 'T4', 'T5', 'T6', 'T7', 'T8', 'T9', 'T10', 'T11', 'T12', 'T13', 'T14', 'T15', 'T16', 'T17', 'T18', 'T19', 'T20', 'T21', 'T22', 'T23', 'T24', 'T25', 'T26', 'T27', 'T28', 'T29', 'T30'], 'CR1': ['T31', 'T32', 'T33', 'T34', 'T35', 'T36', 'T37', 'T38', 'T39', 'T40', 'T41', 'T42', 'T43', 'T44', 'T45', 'T46', 'T47', 'T48', 'T49', 'T50', 'T51', 'T52', 'T53', 'T54', 'T55', 'T56', 'T57']}\n"
     ]
    }
   ],
   "source": [
    "#creating snapshots with one digger and crusher\n",
    "# 30 unloaded trucks standing in queue at the digger &\n",
    "# 27 loaded trucks standing in queue at the crusher\n",
    "\n",
    "snapshots = {}\n",
    "unloaded = 30\n",
    "loaded = 27\n",
    "startD=0\n",
    "startC=unloaded\n",
    "time_start = dt.datetime.now()   # starting the time \n",
    "\n",
    "for s in range(0,2):\n",
    "    print(\"Snapshot \",s,\" started\\n\")\n",
    "\n",
    "    time_start = dt.datetime.now() # starting the time of each snapshot\n",
    "\n",
    "    snapshots[s] = Snapshot()    \n",
    "    snapshots[s].start_time=time_start\n",
    "    snapshots[s].truck_digger_assign_startTime=time_start\n",
    "    snapshots[s].truck_crusher_assign_startTime=time_start\n",
    "    \n",
    "    snapshots[s].truck_prevAssign[diggers[0]] = None\n",
    "    snapshots[s].truck_prevAssign[crushers[0]]  = None\n",
    "    snapshots[s].truck_currentAssign[diggers[0]] = None\n",
    "    snapshots[s].truck_currentAssign[crushers[0]]  = None\n",
    "    \n",
    "    # Intialization / starting from previous snapshot\n",
    "    # assigning the initial positions in case of first snapshot, and previous final assignments in case of subsequent snapshots\n",
    "    \n",
    "    \n",
    "    if s!=0:\n",
    "        snapshots[s].truck_prevAssign[diggers[0]] = snapshots[s-1].truck_currentAssign[diggers[0]]  \n",
    "        snapshots[s].truck_prevAssign[crushers[0]] = snapshots[s-1].truck_currentAssign[crushers[0]]\n",
    "        \n",
    "        loaded = len(snapshots[s-1].truck_currentAssign[diggers[0]])  #30\n",
    "        startD = loaded\n",
    "        unloaded = len(snapshots[s-1].truck_currentAssign[crushers[0]]) #27\n",
    "        startC=0\n",
    "        \n",
    "        \n",
    "    snapshots[s].loaded_truck_list[diggers[0]] = trucks[:unloaded]\n",
    "    \n",
    "    for t in range(startD,unloaded+startD):\n",
    "        digger_objs[diggers[0]].update_queue(trucks[t])\n",
    "        truck_objs[trucks[t]].update_source(diggers[0])\n",
    "        truck_objs[trucks[t]].update_destination(crushers[0])\n",
    "        truck_objs[trucks[t]].update_travelTime(truck_travel_time[diggers[0]+crushers[0]])\n",
    "    \n",
    "        \n",
    "        snapshots[s].digger_list[trucks[t]] = truck_travel_time[diggers[0]+crushers[0]]\n",
    "    \n",
    "    snapshots[s].empty_truck_list[crushers[0]] = trucks[unloaded:unloaded+loaded]\n",
    "    \n",
    "    for c in range(startC,startC+loaded):\n",
    "        crusher_objs[crushers[0]].update_queue(trucks[c])\n",
    "        truck_objs[trucks[c]].update_source(crushers[0])\n",
    "        truck_objs[trucks[c]].update_destination(diggers[0])\n",
    "        truck_objs[trucks[c]].update_travelTime(truck_travel_time[diggers[0]+crushers[0]])\n",
    "    \n",
    "        snapshots[s].crusher_list[trucks[t]] = truck_travel_time[diggers[0]+crushers[0]]\n",
    "    \n",
    "\n",
    "    \n",
    "    time_end = dt.datetime.now()\n",
    "    snapshots[s].truck_digger_assign_endTime=time_end\n",
    "    snapshots[s].truck_crusher_assign_endTime=time_end\n",
    "    \n",
    "    \n",
    "    if s==0:    \n",
    "        snapshots[s].truck_currentAssign[diggers[0]] = digger_objs[diggers[0]].current_queue\n",
    "        snapshots[s].truck_currentAssign[crushers[0]] = crusher_objs[crushers[0]].current_queue\n",
    "    else:\n",
    "        snapshots[s].truck_currentAssign[diggers[0]] = crusher_objs[crushers[0]].current_queue\n",
    "        snapshots[s].truck_currentAssign[crushers[0]] =digger_objs[diggers[0]].current_queue\n",
    "\n",
    "    \n",
    "    \n",
    "    # step 1 : Equipment availability\n",
    "    \n",
    "    Digger_LoadedTruck_List(snapshots[s].truck_digger_assign_startTime)\n",
    "    Crusher_EmptyTruck_List(snapshots[s].truck_crusher_assign_startTime)\n",
    "    \n",
    "    \n",
    "    \n",
    "    \n",
    "    snapshots[s].queue_len[diggers[0]] = len(digger_objs[diggers[0]].current_queue)\n",
    "    snapshots[s].queue_len[crushers[0]] = len(crusher_objs[crushers[0]].current_queue)\n",
    "    \n",
    "    \n",
    "    \n",
    "    \n",
    "    \n",
    "    \n",
    "    # Step 2: rate estimation of diggers and crushers\n",
    "    \n",
    "    snapshots[s].n_trucks_crusher_avail = len(crusher_objs[crushers[0]].current_queue)\n",
    "    snapshots[s].n_trucks_digger_avail = len(digger_objs[diggers[0]].current_queue)\n",
    "    \n",
    "    diggerRate = {diggers[0]+'Rate':len(digger_objs[diggers[0]].current_queue)*truck_cap}\n",
    "    crusherRate = {crushers[0]+'Rate':len(crusher_objs[crushers[0]].current_queue)*truck_cap}    \n",
    "    \n",
    "    # Step 3: calculating matching factor\n",
    "    \n",
    "    digger_truck = Digger_LoadedTruck_List(snapshots[s].truck_digger_assign_startTime)[0]\n",
    "    CrusherAvailableTime = Crusher_EmptyTruck_List(snapshots[s].truck_crusher_assign_startTime)[1]\n",
    "    #print(digger_truck)\n",
    "    MFCrusher={}\n",
    "    for i in digger_truck:\n",
    "        if i == list(digger_truck)[0]:\n",
    "            time_start = digger_truck[i]\n",
    "        arrivalTime = digger_truck[i] + truck_travel_time[diggers[0]+crushers[0]] - time_start\n",
    "        TruckCycleTime = arrivalTime\n",
    "        MFCrusher['MFCrusher_'+i] = (loaded*CrusherAvailableTime[crushers[0]])/(1*TruckCycleTime)\n",
    "    #print(MFCrusher)\n",
    "    \n",
    "    crusher_truck = Crusher_EmptyTruck_List(snapshots[s].truck_crusher_assign_startTime)[0]\n",
    "    DiggerAvailableTime = Digger_LoadedTruck_List(snapshots[s].truck_digger_assign_startTime)[1]\n",
    "    #print(digger_truck)\n",
    "    MFDigger={}\n",
    "    for i in crusher_truck:\n",
    "        if i == list(crusher_truck)[0]:\n",
    "            time_start = crusher_truck[i]\n",
    "        arrivalTime = crusher_truck[i] + truck_travel_time[diggers[0]+crushers[0]] - time_start\n",
    "        TruckCycleTime = arrivalTime\n",
    "        MFDigger['MFDigger_'+i] = (loaded*DiggerAvailableTime[diggers[0]])/(1*TruckCycleTime)\n",
    "    #print(MFDigger)\n",
    "    \n",
    "    \n",
    "        \n",
    "        \n",
    "            \n",
    "            \n",
    "    \n",
    "    #print(digger_objs[diggers[0]].current_queue)\n",
    "    print(snapshots[s].truck_currentAssign)\n",
    "\n",
    "    digger_objs[diggers[0]].remove_allTrucks()\n",
    "    crusher_objs[crushers[0]].remove_allTrucks()\n",
    "    \n",
    "    #print(snapshots[s].truck_currentAssign)\n",
    "    #print(snapshots[s].truck_prevAssign)\n",
    "    #print(diggerRate)\n",
    "    #print(crusherRate)\n",
    "\n",
    "\n"
   ]
  },
  {
   "cell_type": "code",
   "execution_count": 2099,
   "metadata": {},
   "outputs": [],
   "source": [
    "# Step 1: Estimation of the availability time of crusher, diggers and trucks\n",
    "#defining the two functions which returns \n",
    "\n",
    "# Crushers along with the times when their queues are empty\n",
    "# Empty trucks at each crusher location, along with the times when they are empty\n",
    "# Diggers along with the times when their queues are empty\n",
    "# Loaded trucks at each digger location, along with the times when they are loaded\n",
    "\n",
    "\n",
    "def Digger_LoadedTruck_List2(time_start):\n",
    "    AvTrucksD={}\n",
    "    AvDiggers={}\n",
    "    for d in range(10):\n",
    "        for i in digger_objs[diggers[d]].current_queue:\n",
    "            if len(AvTrucksD)==0:\n",
    "                truck_objs[i].wait_time=0\n",
    "            else:    \n",
    "                a = (stdServT[diggers[d]]**2 + meanServT[diggers[d]]**2)/meanServT[diggers[d]]\n",
    "                b = 2*len(AvTrucksD)*meanServT[diggers[d]]\n",
    "                c = -2*len(AvTrucksD)\n",
    "                truck_objs[i].wait_time = len(AvTrucksD)/get_lambda(a,b,c)[0]\n",
    "            AvTrucksD[i] = time_start.second + truck_objs[i].wait_time + 600\n",
    "            truck_objs[i].mean_departure_rate = 1/AvTrucksD[i]     \n",
    "        AvDiggers[diggers[d]] = AvTrucksD[list(AvTrucksD.keys())[-1]]   \n",
    "    return ([AvTrucksD,AvDiggers])\n"
   ]
  },
  {
   "cell_type": "code",
   "execution_count": 2100,
   "metadata": {},
   "outputs": [],
   "source": [
    "def Crusher_EmptyTruck_List2(time_start):\n",
    "    AvTrucksC={}\n",
    "    Avcrushers={}\n",
    "    for k in range(3):\n",
    "        for i in crusher_objs[crushers[k]].current_queue:\n",
    "            if len(AvTrucksC)==0:\n",
    "                truck_objs[i].wait_time=0\n",
    "            else:    \n",
    "                a = (stdServT[crushers[k]]**2 + meanServT[crushers[k]]**2)/meanServT[crushers[k]]\n",
    "                b = 2*len(AvTrucksC)*meanServT[crushers[k]]\n",
    "                c = -2*len(AvTrucksC)\n",
    "                truck_objs[i].wait_time = len(AvTrucksC)/get_lambda(a,b,c)[0]\n",
    "            AvTrucksC[i] = time_start.second + truck_objs[i].wait_time + 300\n",
    "            truck_objs[i].mean_departure_rate = 1/AvTrucksC[i]\n",
    "        Avcrushers[crushers[k]] = AvTrucksC[list(AvTrucksC.keys())[-1]]   \n",
    "    return ([AvTrucksC,Avcrushers])"
   ]
  },
  {
   "cell_type": "code",
   "execution_count": 2101,
   "metadata": {
    "scrolled": true
   },
   "outputs": [
    {
     "name": "stdout",
     "output_type": "stream",
     "text": [
      "\n",
      "Snapshot  0  started\n",
      "\n",
      "{'DigLoc1': ['T1', 'T2', 'T3'], 'CR1': ['T31', 'T32', 'T33', 'T34', 'T35', 'T36', 'T37', 'T38', 'T39'], 'DigLoc2': ['T4', 'T5', 'T6'], 'DigLoc3': ['T7', 'T8', 'T9'], 'DigLoc4': ['T10', 'T11', 'T12'], 'DigLoc5': ['T13', 'T14', 'T15'], 'DigLoc6': ['T16', 'T17', 'T18'], 'DigLoc7': ['T19', 'T20', 'T21'], 'DigLoc8': ['T22', 'T23', 'T24'], 'DigLoc9': ['T25', 'T26', 'T27'], 'DigLoc10': ['T28', 'T29', 'T30'], 'CR2': ['T40', 'T41', 'T42', 'T43', 'T44', 'T45', 'T46', 'T47', 'T48'], 'CR3': ['T49', 'T50', 'T51', 'T52', 'T53', 'T54', 'T55', 'T56', 'T57']}\n",
      "\n",
      "Snapshot  1  started\n",
      "\n",
      "{'DigLoc1': ['T31', 'T32', 'T33', 'T34', 'T35', 'T36', 'T37', 'T38', 'T39'], 'CR1': ['T1', 'T2', 'T3']}\n"
     ]
    }
   ],
   "source": [
    "# now we are considering all crushers and diggers\n",
    "# create a for loop for a certain number of trucks at each digger and each crusher in the initial snapshot, or else create a new snapshot\n",
    "# At the start of the schedule, there are 3 trucks each at each digger and 9 trucks each at each crusher\n",
    "\n",
    "\n",
    "#creating snapshots with one digger and crusher\n",
    "\n",
    "\n",
    "snapshots = {}\n",
    "\n",
    "time_start = dt.datetime.now()   # starting the time \n",
    "\n",
    "for s in range(0,2):\n",
    "    print(\"\\nSnapshot \",s,\" started\\n\")\n",
    "\n",
    "    time_start = dt.datetime.now() # starting the time of each snapshot\n",
    "\n",
    "    snapshots[s] = Snapshot()    \n",
    "    snapshots[s].start_time=time_start\n",
    "    snapshots[s].truck_digger_assign_startTime=time_start\n",
    "    snapshots[s].truck_crusher_assign_startTime=time_start\n",
    "    \n",
    "    snapshots[s].truck_prevAssign[diggers[0]] = None\n",
    "    snapshots[s].truck_prevAssign[crushers[0]]  = None\n",
    "    snapshots[s].truck_currentAssign[diggers[0]] = None\n",
    "    snapshots[s].truck_currentAssign[crushers[0]]  = None\n",
    "    \n",
    "    # Intialization / starting from previous snapshot\n",
    "    # assigning the initial positions in case of first snapshot, and previous final assignments in case of subsequent snapshots\n",
    "    \n",
    "    \n",
    "    #if s!=0:\n",
    "     #   snapshots[s].truck_prevAssign[diggers[0]] = snapshots[s-1].truck_currentAssign[diggers[0]]  \n",
    "     #   snapshots[s].truck_prevAssign[crushers[0]] = snapshots[s-1].truck_currentAssign[crushers[0]]\n",
    "        \n",
    "      #  loaded = len(snapshots[s-1].truck_currentAssign[diggers[0]])  #30\n",
    "       # startD = loaded\n",
    "        #unloaded = len(snapshots[s-1].truck_currentAssign[crushers[0]]) #27\n",
    "        #startC=0\n",
    "        \n",
    "        \n",
    "    #snapshots[s].loaded_truck_list[diggers[0]] = trucks[:unloaded]\n",
    "    \n",
    "    #initializing three trucks at each digger\n",
    "    \n",
    "    x=0\n",
    "    for d in range(10):\n",
    "        for t in range(3):\n",
    "            digger_objs[diggers[d]].update_queue(trucks[x])\n",
    "            truck_objs[trucks[x]].update_source(diggers[d])\n",
    "            x+=1\n",
    "        #print(digger_objs[diggers[d]].current_queue)\n",
    "    \n",
    "    #initializing nine trucks at each crusher\n",
    "    \n",
    "\n",
    "    for c in range(3):\n",
    "        for t in range(9):\n",
    "            crusher_objs[crushers[c]].update_queue(trucks[x])\n",
    "            truck_objs[trucks[x]].update_source(crushers[c])\n",
    "            x+=1\n",
    "        #print(crusher_objs[crushers[c]].current_queue)\n",
    "\n",
    "        \n",
    "        \n",
    "        \n",
    "    #snapshots[s].digger_list[trucks[t]] = truck_travel_time[diggers[0]+crushers[0]]\n",
    "    \n",
    "    #snapshots[s].empty_truck_list[crushers[0]] = trucks[unloaded:unloaded+loaded]\n",
    "    \n",
    "    \n",
    "    #snapshots[s].crusher_list[trucks[t]] = truck_travel_time[diggers[0]+crushers[0]]\n",
    "    \n",
    "\n",
    "    \n",
    "    time_end = dt.datetime.now()\n",
    "    snapshots[s].truck_digger_assign_endTime=time_end\n",
    "    snapshots[s].truck_crusher_assign_endTime=time_end\n",
    "    \n",
    "    \n",
    "    if s==0:\n",
    "        for i in range(10):\n",
    "            snapshots[s].truck_currentAssign[diggers[i]] = digger_objs[diggers[i]].current_queue\n",
    "        for c in range(3):\n",
    "            snapshots[s].truck_currentAssign[crushers[c]] = crusher_objs[crushers[c]].current_queue\n",
    "    else:\n",
    "        snapshots[s].truck_currentAssign[diggers[0]] = crusher_objs[crushers[0]].current_queue\n",
    "        snapshots[s].truck_currentAssign[crushers[0]] =digger_objs[diggers[0]].current_queue\n",
    "\n",
    "    \n",
    "    \n",
    "    # step 1 : Equipment availability\n",
    "    \n",
    "    #print(Digger_LoadedTruck_List2(snapshots[s].truck_digger_assign_startTime))\n",
    "    #print(Crusher_EmptyTruck_List2(snapshots[s].truck_crusher_assign_startTime))\n",
    "    \n",
    "    \n",
    "    \n",
    "    \n",
    "    #snapshots[s].queue_len[diggers[0]] = len(digger_objs[diggers[0]].current_queue)\n",
    "    #snapshots[s].queue_len[crushers[0]] = len(crusher_objs[crushers[0]].current_queue)\n",
    "    \n",
    "    \n",
    "    \n",
    "    \n",
    "    \n",
    "    \n",
    "    # Step 2: rate estimation of diggers and crushers\n",
    "    \n",
    "    \n",
    "    #snapshots[s].n_trucks_crusher_avail = len(crusher_objs[crushers[0]].current_queue)\n",
    "    #snapshots[s].n_trucks_digger_avail = len(digger_objs[diggers[0]].current_queue)\n",
    "    \n",
    "    crusherRate={}\n",
    "    for k in range(3):\n",
    "        crusherRate[crushers[k]+'Rate'] = len(crusher_objs[crushers[k]].current_queue)*truck_cap\n",
    "    #print(crusherRate)\n",
    "    \n",
    "    diggerRate={}\n",
    "    for d in range(10):\n",
    "        diggerRate[diggers[d]+'Rate'] = len(digger_objs[diggers[d]].current_queue)*truck_cap\n",
    "    #print(diggerRate)\n",
    "    \n",
    "    # Step 3: calculating matching factor\n",
    "    \n",
    "    digger_truck = Digger_LoadedTruck_List2(snapshots[s].truck_digger_assign_startTime)[0]\n",
    "    CrusherAvailableTime = Crusher_EmptyTruck_List2(snapshots[s].truck_crusher_assign_startTime)[1]\n",
    "    #print(digger_truck)\n",
    "    \n",
    "    MFCrusher={}\n",
    "    for k in CrusherAvailableTime:\n",
    "        for t in digger_truck:\n",
    "            if t == list(digger_truck)[0]:\n",
    "                time_start = digger_truck[t]\n",
    "            arrivalTime = digger_truck[t] + truck_travel_time[truck_objs[t].source+k] - time_start\n",
    "            TruckCycleTime = arrivalTime\n",
    "            MFCrusher['MFCrusher_'+k] = (loaded*CrusherAvailableTime[k])/(1*TruckCycleTime)\n",
    "    #print(MFCrusher)\n",
    "    \n",
    "    crusher_truck = Crusher_EmptyTruck_List2(snapshots[s].truck_crusher_assign_startTime)[0]\n",
    "    DiggerAvailableTime = Digger_LoadedTruck_List2(snapshots[s].truck_digger_assign_startTime)[1]\n",
    "    \n",
    "    #print(digger_truck)\n",
    "    \n",
    "    MFDigger={}\n",
    "    for d in DiggerAvailableTime: \n",
    "        for t in crusher_truck:\n",
    "            if t == list(crusher_truck)[0]:\n",
    "                time_start = crusher_truck[t]\n",
    "            arrivalTime = crusher_truck[t] + truck_travel_time[d+truck_objs[t].source] - time_start\n",
    "            TruckCycleTime = arrivalTime\n",
    "            MFDigger['MFDigger_'+d] = (loaded*DiggerAvailableTime[d])/(1*TruckCycleTime)\n",
    "    #print(MFDigger)\n",
    "    \n",
    "    \n",
    "        \n",
    "        \n",
    "            \n",
    "            \n",
    "    \n",
    "    #print(digger_objs[diggers[0]].current_queue)\n",
    "    for d in range(10):\n",
    "        digger_objs[diggers[d]].remove_allTrucks()\n",
    "    for c in range(3):\n",
    "        crusher_objs[crushers[c]].remove_allTrucks()\n",
    "    \n",
    "    print(snapshots[s].truck_currentAssign)\n",
    "    #print(snapshots[s].truck_prevAssign)\n",
    "    #print(diggerRate)\n",
    "    #print(crusherRate)\n",
    "\n",
    "\n"
   ]
  },
  {
   "cell_type": "code",
   "execution_count": null,
   "metadata": {},
   "outputs": [],
   "source": []
  },
  {
   "cell_type": "code",
   "execution_count": null,
   "metadata": {},
   "outputs": [],
   "source": []
  }
 ],
 "metadata": {
  "kernelspec": {
   "display_name": "Python 3",
   "language": "python",
   "name": "python3"
  },
  "language_info": {
   "codemirror_mode": {
    "name": "ipython",
    "version": 3
   },
   "file_extension": ".py",
   "mimetype": "text/x-python",
   "name": "python",
   "nbconvert_exporter": "python",
   "pygments_lexer": "ipython3",
   "version": "3.8.5"
  }
 },
 "nbformat": 4,
 "nbformat_minor": 4
}
